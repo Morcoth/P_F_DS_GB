{
 "cells": [
  {
   "cell_type": "code",
   "execution_count": 1,
   "metadata": {},
   "outputs": [],
   "source": [
    "import numpy as np\n",
    "import pandas as pd\n",
    "import matplotlib.pyplot as plt\n",
    "import seaborn as sns\n",
    "import warnings\n",
    "from sklearn.model_selection import train_test_split \n",
    "warnings.filterwarnings('ignore')\n",
    "pd.options.display.max_columns = 100\n",
    "%matplotlib inline"
   ]
  },
  {
   "cell_type": "code",
   "execution_count": 2,
   "metadata": {},
   "outputs": [],
   "source": [
    "train_data = pd.read_csv('train.csv')"
   ]
  },
  {
   "cell_type": "code",
   "execution_count": 3,
   "metadata": {},
   "outputs": [],
   "source": [
    "test_data = pd.read_csv('test.csv')"
   ]
  },
  {
   "cell_type": "code",
   "execution_count": 4,
   "metadata": {},
   "outputs": [],
   "source": [
    "train, valid = train_test_split(train_data, test_size=0.2, random_state=15)"
   ]
  },
  {
   "cell_type": "markdown",
   "metadata": {},
   "source": [
    "Train"
   ]
  },
  {
   "cell_type": "code",
   "execution_count": 5,
   "metadata": {},
   "outputs": [],
   "source": [
    "def fill_life_square(df):\n",
    "    df['LifeSquare'] = df['LifeSquare'].fillna(0.8 * df['Square'])\n",
    "    return df"
   ]
  },
  {
   "cell_type": "code",
   "execution_count": 6,
   "metadata": {},
   "outputs": [],
   "source": [
    "def clean_rooms(df, source_df):\n",
    "    rooms_median = source_df['Rooms'].median()\n",
    "    df.loc[df['Rooms'] >= 6, 'Rooms'] = rooms_median\n",
    "    return df"
   ]
  },
  {
   "cell_type": "code",
   "execution_count": 7,
   "metadata": {},
   "outputs": [],
   "source": [
    "def get_cat_features(df):\n",
    "    df.loc[df['Ecology_2']=='A', 'Ecology_2'] = 1\n",
    "    df.loc[df['Ecology_2']=='B', 'Ecology_2'] = 2\n",
    "    df = pd.get_dummies(df)\n",
    "    return df"
   ]
  },
  {
   "cell_type": "code",
   "execution_count": 8,
   "metadata": {},
   "outputs": [],
   "source": [
    "def prepare_data(df):\n",
    "    df = clean_rooms(df, df)\n",
    "    df = fill_life_square(df)\n",
    "    df = get_cat_features(df)\n",
    "    return df"
   ]
  },
  {
   "cell_type": "code",
   "execution_count": 9,
   "metadata": {},
   "outputs": [],
   "source": [
    "train = prepare_data(train)"
   ]
  },
  {
   "cell_type": "code",
   "execution_count": 10,
   "metadata": {},
   "outputs": [],
   "source": [
    "valid = prepare_data(valid)"
   ]
  },
  {
   "cell_type": "code",
   "execution_count": 11,
   "metadata": {},
   "outputs": [],
   "source": [
    "fts = ['Rooms', 'Square', 'LifeSquare', 'KitchenSquare',\n",
    "       'Floor', 'HouseFloor', 'HouseYear', 'Ecology_1', 'Ecology_2',\n",
    "       'Social_1', 'Social_2', 'Social_3','Helthcare_2',\n",
    "       'Shops_1', 'Ecology_3_A', 'Shops_2_A']"
   ]
  },
  {
   "cell_type": "markdown",
   "metadata": {},
   "source": [
    "Model"
   ]
  },
  {
   "cell_type": "code",
   "execution_count": 12,
   "metadata": {},
   "outputs": [],
   "source": [
    "from sklearn.ensemble import RandomForestRegressor as RF"
   ]
  },
  {
   "cell_type": "code",
   "execution_count": 13,
   "metadata": {},
   "outputs": [],
   "source": [
    "model = RF(n_estimators=100, max_depth=50, max_features=12, random_state=42)"
   ]
  },
  {
   "cell_type": "code",
   "execution_count": 14,
   "metadata": {},
   "outputs": [
    {
     "data": {
      "text/plain": [
       "RandomForestRegressor(bootstrap=True, criterion='mse', max_depth=50,\n",
       "           max_features=12, max_leaf_nodes=None, min_impurity_decrease=0.0,\n",
       "           min_impurity_split=None, min_samples_leaf=1,\n",
       "           min_samples_split=2, min_weight_fraction_leaf=0.0,\n",
       "           n_estimators=100, n_jobs=None, oob_score=False, random_state=42,\n",
       "           verbose=0, warm_start=False)"
      ]
     },
     "execution_count": 14,
     "metadata": {},
     "output_type": "execute_result"
    }
   ],
   "source": [
    "model.fit(train.loc[:, fts], train['Price'])"
   ]
  },
  {
   "cell_type": "code",
   "execution_count": 15,
   "metadata": {},
   "outputs": [],
   "source": [
    "pred_train = model.predict(train.loc[:, fts])"
   ]
  },
  {
   "cell_type": "code",
   "execution_count": 16,
   "metadata": {},
   "outputs": [
    {
     "data": {
      "text/plain": [
       "(array([  80.,  176.,  463.,  747.,  958., 1237., 1051.,  753.,  578.,\n",
       "         405.,  295.,  199.,  219.,  181.,  144.,  121.,   90.,   77.,\n",
       "          53.,   65.,   33.,   31.,   24.,   11.,    9.]),\n",
       " array([ 62882.89202423,  83606.03394754, 104329.17587085, 125052.31779417,\n",
       "        145775.45971748, 166498.60164079, 187221.74356411, 207944.88548742,\n",
       "        228668.02741073, 249391.16933405, 270114.31125736, 290837.45318068,\n",
       "        311560.59510399, 332283.7370273 , 353006.87895062, 373730.02087393,\n",
       "        394453.16279724, 415176.30472056, 435899.44664387, 456622.58856718,\n",
       "        477345.7304905 , 498068.87241381, 518792.01433712, 539515.15626044,\n",
       "        560238.29818375, 580961.44010706]),\n",
       " <a list of 25 Patch objects>)"
      ]
     },
     "execution_count": 16,
     "metadata": {},
     "output_type": "execute_result"
    },
    {
     "data": {
      "image/png": "[encoded data removed]",
      "text/plain": [
       "<Figure size 432x288 with 1 Axes>"
      ]
     },
     "metadata": {
      "needs_background": "light"
     },
     "output_type": "display_data"
    }
   ],
   "source": [
    "plt.hist(pred_train, bins=25)"
   ]
  },
  {
   "cell_type": "code",
   "execution_count": 17,
   "metadata": {},
   "outputs": [],
   "source": [
    "pred_valid = model.predict(valid.loc[:, fts])"
   ]
  },
  {
   "cell_type": "code",
   "execution_count": 18,
   "metadata": {},
   "outputs": [
    {
     "data": {
      "text/plain": [
       "(array([ 26.,  28.,  94., 141., 233., 257., 283., 203., 179., 118.,  81.,\n",
       "         62.,  60.,  46.,  42.,  42.,  26.,  20.,  15.,  18.,  11.,   6.,\n",
       "          4.,   4.,   1.]),\n",
       " array([ 67472.15899842,  86185.43638964, 104898.71378086, 123611.99117208,\n",
       "        142325.2685633 , 161038.54595452, 179751.82334574, 198465.10073696,\n",
       "        217178.37812818, 235891.6555194 , 254604.93291062, 273318.21030184,\n",
       "        292031.48769306, 310744.76508428, 329458.0424755 , 348171.31986672,\n",
       "        366884.59725794, 385597.87464916, 404311.15204038, 423024.4294316 ,\n",
       "        441737.70682282, 460450.98421404, 479164.26160526, 497877.53899648,\n",
       "        516590.8163877 , 535304.09377892]),\n",
       " <a list of 25 Patch objects>)"
      ]
     },
     "execution_count": 18,
     "metadata": {},
     "output_type": "execute_result"
    },
    {
     "data": {
      "image/png": "[encoded data removed]",
      "text/plain": [
       "<Figure size 432x288 with 1 Axes>"
      ]
     },
     "metadata": {
      "needs_background": "light"
     },
     "output_type": "display_data"
    }
   ],
   "source": [
    "plt.hist(pred_valid, bins=25)"
   ]
  },
  {
   "cell_type": "code",
   "execution_count": 19,
   "metadata": {},
   "outputs": [],
   "source": [
    "from sklearn.metrics import r2_score as r2"
   ]
  },
  {
   "cell_type": "code",
   "execution_count": 20,
   "metadata": {},
   "outputs": [
    {
     "data": {
      "text/plain": [
       "0.9628297536603225"
      ]
     },
     "execution_count": 20,
     "metadata": {},
     "output_type": "execute_result"
    }
   ],
   "source": [
    "r2(train['Price'], pred_train)"
   ]
  },
  {
   "cell_type": "code",
   "execution_count": 21,
   "metadata": {},
   "outputs": [
    {
     "data": {
      "text/plain": [
       "0.7214754427405641"
      ]
     },
     "execution_count": 21,
     "metadata": {},
     "output_type": "execute_result"
    }
   ],
   "source": [
    "r2(valid['Price'], pred_valid)"
   ]
  },
  {
   "cell_type": "markdown",
   "metadata": {},
   "source": [
    "TEST DATASET"
   ]
  },
  {
   "cell_type": "code",
   "execution_count": 22,
   "metadata": {},
   "outputs": [],
   "source": [
    "preparedfortest = prepare_data(test_data)"
   ]
  },
  {
   "cell_type": "code",
   "execution_count": 23,
   "metadata": {},
   "outputs": [],
   "source": [
    "preparedfortest['Price']= model.predict(preparedfortest.loc[:, fts])"
   ]
  },
  {
   "cell_type": "markdown",
   "metadata": {},
   "source": [
    "Визуальное распределение предсказанных цен на недвижимость"
   ]
  },
  {
   "cell_type": "code",
   "execution_count": 24,
   "metadata": {},
   "outputs": [
    {
     "data": {
      "text/plain": [
       "(array([ 54.,  74., 202., 376., 574., 793., 671., 532., 399., 262., 234.,\n",
       "        144., 143., 133.,  99.,  80.,  58.,  63.,  30.,  32.,  15.,  19.,\n",
       "          8.,   3.,   2.]),\n",
       " array([ 64715.27855473,  84654.40798017, 104593.53740562, 124532.66683106,\n",
       "        144471.7962565 , 164410.92568194, 184350.05510739, 204289.18453283,\n",
       "        224228.31395827, 244167.44338371, 264106.57280915, 284045.7022346 ,\n",
       "        303984.83166004, 323923.96108548, 343863.09051092, 363802.21993637,\n",
       "        383741.34936181, 403680.47878725, 423619.60821269, 443558.73763814,\n",
       "        463497.86706358, 483436.99648902, 503376.12591446, 523315.2553399 ,\n",
       "        543254.38476535, 563193.51419079]),\n",
       " <a list of 25 Patch objects>)"
      ]
     },
     "execution_count": 24,
     "metadata": {},
     "output_type": "execute_result"
    },
    {
     "data": {
      "image/png": "[encoded data removed]",
      "text/plain": [
       "<Figure size 432x288 with 1 Axes>"
      ]
     },
     "metadata": {
      "needs_background": "light"
     },
     "output_type": "display_data"
    }
   ],
   "source": [
    "plt.hist(preparedfortest['Price'], bins=25)"
   ]
  },
  {
   "cell_type": "code",
   "execution_count": 25,
   "metadata": {},
   "outputs": [],
   "source": [
    "preparedfortest.loc[:,['Id', 'Price']].to_csv('ABuydalin_predictions.csv', index=False)"
   ]
  }
 ],
 "metadata": {
  "kernelspec": {
   "display_name": "Python 3",
   "language": "python",
   "name": "python3"
  },
  "language_info": {
   "codemirror_mode": {
    "name": "ipython",
    "version": 3
   },
   "file_extension": ".py",
   "mimetype": "text/x-python",
   "name": "python",
   "nbconvert_exporter": "python",
   "pygments_lexer": "ipython3",
   "version": "3.7.3"
  }
 },
 "nbformat": 4,
 "nbformat_minor": 2
}
